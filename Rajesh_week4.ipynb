{
 "cells": [
  {
   "cell_type": "code",
   "execution_count": 19,
   "metadata": {
    "collapsed": true
   },
   "outputs": [],
   "source": [
    "from sklearn.datasets import fetch_20newsgroups\n",
    "categories=['rec.sport.baseball']\n",
    "dataset=fetch_20newsgroups(subset='all',shuffle=True,random_state=42,categories=categories)\n",
    "corpus=dataset.data"
   ]
  },
  {
   "cell_type": "code",
   "execution_count": 5,
   "metadata": {
    "collapsed": false
   },
   "outputs": [],
   "source": [
    "from bs4 import BeautifulSoup\n",
    "import nltk\n",
    "from nltk.corpus import stopwords\n",
    "from sklearn.feature_extraction.text import TfidfVectorizer\n",
    "from sklearn.decomposition import TruncatedSVD"
   ]
  },
  {
   "cell_type": "code",
   "execution_count": 7,
   "metadata": {
    "collapsed": false
   },
   "outputs": [
    {
     "name": "stdout",
     "output_type": "stream",
     "text": [
      "[nltk_data] Downloading package stopwords to\n",
      "[nltk_data]     C:\\Users\\RAJESH\\AppData\\Roaming\\nltk_data...\n",
      "[nltk_data]   Unzipping corpora\\stopwords.zip.\n"
     ]
    },
    {
     "data": {
      "text/plain": [
       "True"
      ]
     },
     "execution_count": 7,
     "metadata": {},
     "output_type": "execute_result"
    }
   ],
   "source": [
    "nltk.download('stopwords')"
   ]
  },
  {
   "cell_type": "code",
   "execution_count": 8,
   "metadata": {
    "collapsed": false
   },
   "outputs": [
    {
     "data": {
      "text/plain": [
       "u\"From: writingctr@leo.bsuvc.bsu.edu\\nSubject: Re: CUB fever.\\nOrganization: Ball State University, Muncie, In - Univ. Computing Svc's\\nLines: 21\\n\\n\\nIn article <kingoz.735285670@camelot>, kingoz@camelot.bradley.edu (Orin Roth) writes:\\n> \\n>    CUB fever is hitting me again. I'm beginning to think they have a \\n>    chance this year. (what the heck am i thinking?)\\n>    Sorry. Just a moment of incompetence.\\n>    I'll be ok. Really. \\n>    Orin.\\n>    Bradley U.\\n> \\n> --\\n> I'm really a jester in disguise!                                   \\nI hear ya!  Then again, we must remember that we are indeed Cub fans, and\\nthat the Cubs will eventually blow it.  After all, the Cubs are the easiest\\nteam in the National League to root for.  No Pressure.  You know they will\\nlose eventually.  Oh well, I suppose we must have faith.  After all, they\\ndo look pretty good, and they don't even have Sandberg back yet.  \\n\\nCUBS IN '93!!!!!\\n\\nCHA\\n\""
      ]
     },
     "execution_count": 8,
     "metadata": {},
     "output_type": "execute_result"
    }
   ],
   "source": [
    "corpus[0]"
   ]
  },
  {
   "cell_type": "code",
   "execution_count": 9,
   "metadata": {
    "collapsed": false
   },
   "outputs": [],
   "source": [
    "stopset = set (stopwords.words('english'))\n",
    "stopset.update(['lt','p','/p','br','amp','quot','field','font','normal','span','0px','rgb','style','51','spacing',\n",
    "               'text','helvetica','size','family','space','arial','height','indent','letter'\n",
    "               'line','none','sans','serif','transform','line','variant','weight','times','new','strong','video','title'\n",
    "               'white','word','letter','roman','0pt','16','color','12','14','21','neue','apple','class',  ])"
   ]
  },
  {
   "cell_type": "code",
   "execution_count": 10,
   "metadata": {
    "collapsed": false
   },
   "outputs": [
    {
     "data": {
      "text/plain": [
       "u\"From: writingctr@leo.bsuvc.bsu.edu\\nSubject: Re: CUB fever.\\nOrganization: Ball State University, Muncie, In - Univ. Computing Svc's\\nLines: 21\\n\\n\\nIn article <kingoz.735285670@camelot>, kingoz@camelot.bradley.edu (Orin Roth) writes:\\n> \\n>    CUB fever is hitting me again. I'm beginning to think they have a \\n>    chance this year. (what the heck am i thinking?)\\n>    Sorry. Just a moment of incompetence.\\n>    I'll be ok. Really. \\n>    Orin.\\n>    Bradley U.\\n> \\n> --\\n> I'm really a jester in disguise!                                   \\nI hear ya!  Then again, we must remember that we are indeed Cub fans, and\\nthat the Cubs will eventually blow it.  After all, the Cubs are the easiest\\nteam in the National League to root for.  No Pressure.  You know they will\\nlose eventually.  Oh well, I suppose we must have faith.  After all, they\\ndo look pretty good, and they don't even have Sandberg back yet.  \\n\\nCUBS IN '93!!!!!\\n\\nCHA\\n\""
      ]
     },
     "execution_count": 10,
     "metadata": {},
     "output_type": "execute_result"
    }
   ],
   "source": [
    "corpus[0]"
   ]
  },
  {
   "cell_type": "code",
   "execution_count": 11,
   "metadata": {
    "collapsed": true
   },
   "outputs": [],
   "source": [
    "vectorizer = TfidfVectorizer(stop_words=stopset,\n",
    "                                 use_idf=True, ngram_range=(1, 3))\n",
    "X = vectorizer.fit_transform(corpus)\n"
   ]
  },
  {
   "cell_type": "code",
   "execution_count": 12,
   "metadata": {
    "collapsed": false
   },
   "outputs": [
    {
     "data": {
      "text/plain": [
       "<1x190159 sparse matrix of type '<type 'numpy.float64'>'\n",
       "\twith 235 stored elements in Compressed Sparse Row format>"
      ]
     },
     "execution_count": 12,
     "metadata": {},
     "output_type": "execute_result"
    }
   ],
   "source": [
    "X[0]"
   ]
  },
  {
   "cell_type": "code",
   "execution_count": 13,
   "metadata": {
    "collapsed": false
   },
   "outputs": [
    {
     "name": "stdout",
     "output_type": "stream",
     "text": [
      "  (0, 51460)\t0.0734463096625\n",
      "  (0, 189431)\t0.0734463096625\n",
      "  (0, 28954)\t0.0734463096625\n",
      "  (0, 146556)\t0.0734463096625\n",
      "  (0, 64407)\t0.0734463096625\n",
      "  (0, 77917)\t0.0734463096625\n",
      "  (0, 133158)\t0.0734463096625\n",
      "  (0, 103424)\t0.0734463096625\n",
      "  (0, 66793)\t0.0734463096625\n",
      "  (0, 114520)\t0.0734463096625\n",
      "  (0, 163261)\t0.0734463096625\n",
      "  (0, 181100)\t0.0734463096625\n",
      "  (0, 119624)\t0.0734463096625\n",
      "  (0, 64543)\t0.0734463096625\n",
      "  (0, 103918)\t0.0734463096625\n",
      "  (0, 95532)\t0.0734463096625\n",
      "  (0, 133073)\t0.0734463096625\n",
      "  (0, 143720)\t0.0734463096625\n",
      "  (0, 98126)\t0.0734463096625\n",
      "  (0, 115161)\t0.0734463096625\n",
      "  (0, 165620)\t0.0734463096625\n",
      "  (0, 59664)\t0.0734463096625\n",
      "  (0, 51500)\t0.0734463096625\n",
      "  (0, 35721)\t0.0734463096625\n",
      "  (0, 64533)\t0.0734463096625\n",
      "  :\t:\n",
      "  (0, 143954)\t0.0551931192048\n",
      "  (0, 122291)\t0.11038623841\n",
      "  (0, 37510)\t0.0989842910659\n",
      "  (0, 40680)\t0.104524831508\n",
      "  (0, 16529)\t0.0734463096625\n",
      "  (0, 94943)\t0.11038623841\n",
      "  (0, 25779)\t0.0160794683389\n",
      "  (0, 100805)\t0.010248916482\n",
      "  (0, 163850)\t0.0606840380211\n",
      "  (0, 48144)\t0.0387972930629\n",
      "  (0, 175254)\t0.0391426583255\n",
      "  (0, 114318)\t0.0606840380211\n",
      "  (0, 175290)\t0.0179368326547\n",
      "  (0, 159024)\t0.0372269139097\n",
      "  (0, 29476)\t0.0306118463788\n",
      "  (0, 121678)\t0.0102695385529\n",
      "  (0, 68334)\t0.124508834349\n",
      "  (0, 51382)\t0.160868220155\n",
      "  (0, 137192)\t0.0126673855948\n",
      "  (0, 161824)\t0.0101872995629\n",
      "  (0, 60164)\t0.023728059338\n",
      "  (0, 38750)\t0.0505117257066\n",
      "  (0, 38760)\t0.0505117257066\n",
      "  (0, 99152)\t0.0494921455329\n",
      "  (0, 186930)\t0.0734463096625\n"
     ]
    }
   ],
   "source": [
    "print X[0]"
   ]
  },
  {
   "cell_type": "code",
   "execution_count": 14,
   "metadata": {
    "collapsed": false
   },
   "outputs": [
    {
     "data": {
      "text/plain": [
       "TruncatedSVD(algorithm='randomized', n_components=27, n_iter=100,\n",
       "       random_state=None, tol=0.0)"
      ]
     },
     "execution_count": 14,
     "metadata": {},
     "output_type": "execute_result"
    }
   ],
   "source": [
    "lsa = TruncatedSVD(n_components=27, n_iter=100)\n",
    "lsa.fit(X)\n"
   ]
  },
  {
   "cell_type": "code",
   "execution_count": 15,
   "metadata": {
    "collapsed": false
   },
   "outputs": [
    {
     "data": {
      "text/plain": [
       "array([ 0.01601607,  0.00499136,  0.0008138 , ...,  0.00102587,\n",
       "        0.00102587,  0.00102587])"
      ]
     },
     "execution_count": 15,
     "metadata": {},
     "output_type": "execute_result"
    }
   ],
   "source": [
    "lsa.components_[0]"
   ]
  },
  {
   "cell_type": "code",
   "execution_count": 18,
   "metadata": {
    "collapsed": false
   },
   "outputs": [
    {
     "name": "stdout",
     "output_type": "stream",
     "text": [
      "Concept 0:\n",
      "edu\n",
      "com\n",
      "year\n",
      "writes\n",
      "team\n",
      "would\n",
      "game\n",
      "article\n",
      "re\n",
      "cs\n",
      " \n",
      "Concept 1:\n",
      "year\n",
      "hit\n",
      "00 00 american\n",
      "team\n",
      "batting\n",
      "00 00 gmt\n",
      "good\n",
      "player\n",
      "cs\n",
      "last\n",
      " \n",
      "Concept 2:\n",
      "edu\n",
      "host\n",
      "lines\n",
      "00 00 american\n",
      "cs\n",
      "two\n",
      "university\n",
      "know\n",
      "ball\n",
      "best\n",
      " \n",
      "Concept 3:\n",
      "game\n",
      "would\n",
      "games\n",
      "well\n",
      "subject re\n",
      "didn\n",
      "john\n",
      "com\n",
      "play\n",
      "could\n",
      " \n",
      "Concept 4:\n",
      "com\n",
      "posting\n",
      "runs\n",
      "distribution\n",
      "good\n",
      "writes\n",
      "00 00 01\n",
      "first\n",
      "nntp posting host\n",
      "posting host\n",
      " \n",
      "Concept 5:\n",
      "00\n",
      "00 00\n",
      "00 00 00\n",
      "writes article\n",
      "cs\n",
      "david\n",
      "hitter\n",
      "morris\n",
      "subject\n",
      "00 00 chicago\n",
      " \n",
      "Concept 6:\n",
      "games\n",
      "team\n",
      "00 00 american\n",
      "morris\n",
      "best\n",
      "edu\n",
      "league\n",
      "fans\n",
      "host\n",
      "time\n",
      " \n",
      "Concept 7:\n",
      "00\n",
      "00 00\n",
      "games\n",
      "hit\n",
      "like\n",
      "00 00 cleveland\n",
      "baseball\n",
      "00 00 colorado\n",
      "season\n",
      "would\n",
      " \n",
      "Concept 8:\n",
      "game\n",
      "players\n",
      "one\n",
      "posting\n",
      "00\n",
      "university\n",
      "team\n",
      "host\n",
      "subject\n",
      "go\n",
      " \n",
      "Concept 9:\n",
      "00 00 baltimore\n",
      "think\n",
      "first\n",
      "games\n",
      "league\n",
      "time\n",
      "university\n",
      "still\n",
      "team\n",
      "writes\n",
      " \n",
      "Concept 10:\n",
      "cs\n",
      "games\n",
      "year\n",
      "good\n",
      "best\n",
      "10\n",
      "though\n",
      "even\n",
      "made\n",
      "think\n",
      " \n",
      "Concept 11:\n",
      "article\n",
      "com\n",
      "one\n",
      "00 00 baltimore\n",
      "like\n",
      "say\n",
      "clutch\n",
      "won\n",
      "first\n",
      "better\n",
      " \n",
      "Concept 12:\n",
      "team\n",
      "time\n",
      "lines\n",
      "players\n",
      "host\n",
      "com\n",
      "say\n",
      "jewish\n",
      "would\n",
      "article\n",
      " \n",
      "Concept 13:\n",
      "00 00 american\n",
      "game\n",
      "host\n",
      "00 00 baltimore\n",
      "nntp posting host\n",
      "posting host\n",
      "nntp posting\n",
      "also\n",
      "organization\n",
      "00 00 colorado\n",
      " \n",
      "Concept 14:\n",
      "year\n",
      "first\n",
      "00 00 cleveland\n",
      "nntp\n",
      "subject\n",
      "players\n",
      "com\n",
      "nntp posting\n",
      "see\n",
      "also\n",
      " \n",
      "Concept 15:\n",
      "com\n",
      "good\n",
      "subject re\n",
      "like\n",
      "lines\n",
      "re\n",
      "much\n",
      "article\n",
      "00 00 000\n",
      "00 00 baltimore\n",
      " \n",
      "Concept 16:\n",
      "last\n",
      "host\n",
      "year\n",
      "baseball\n",
      "organization\n",
      "good\n",
      "subject re\n",
      "writes\n",
      "00 00 colorado\n",
      "00 00 000\n",
      " \n",
      "Concept 17:\n",
      "know\n",
      "00 00 00\n",
      "team\n",
      "year\n",
      "season\n",
      "say\n",
      "one\n",
      "00 00 baltimore\n",
      "netcom\n",
      "time\n",
      " \n",
      "Concept 18:\n",
      "like\n",
      "com\n",
      "re\n",
      "first\n",
      "cs\n",
      "runs\n",
      "team\n",
      "university\n",
      "subject\n",
      "ball\n",
      " \n",
      "Concept 19:\n",
      "00 00 cleveland\n",
      "year\n",
      "re\n",
      "runs\n",
      "article\n",
      "hitting\n",
      "morris\n",
      "netcom com\n",
      "braves\n",
      "like\n",
      " \n",
      "Concept 20:\n",
      "game\n",
      "team\n",
      "baseball\n",
      "edu\n",
      "article\n",
      "00 00 000\n",
      "00 00 01\n",
      "00 00 cleveland\n",
      "well\n",
      "subject re\n",
      " \n",
      "Concept 21:\n",
      "subject re\n",
      "university\n",
      "00 00 american\n",
      "lines\n",
      "com\n",
      "article\n",
      "games\n",
      "00 00 detroit\n",
      "win\n",
      "edu\n",
      " \n",
      "Concept 22:\n",
      "think\n",
      "subject re\n",
      "organization\n",
      "re\n",
      "edu\n",
      "00 00 01\n",
      "cs\n",
      "good\n",
      "first\n",
      "team\n",
      " \n",
      "Concept 23:\n",
      "writes\n",
      "like\n",
      "subject re\n",
      "00 00 00\n",
      "one\n",
      "think\n",
      "subject\n",
      "cs\n",
      "ca\n",
      "would\n",
      " \n",
      "Concept 24:\n",
      "re\n",
      "writes\n",
      "00 00 chicago\n",
      "games\n",
      "players\n",
      "00 00 01\n",
      "posting\n",
      "like\n",
      "edu\n",
      "distribution\n",
      " \n",
      "Concept 25:\n",
      "lines\n",
      "baseball\n",
      "one\n",
      "last\n",
      "nntp posting host\n",
      "posting host\n",
      "00 00 00\n",
      "nntp posting\n",
      "00 00 gmt\n",
      "subject re\n",
      " \n",
      "Concept 26:\n",
      "00 00 cleveland\n",
      "writes\n",
      "game\n",
      "00 00 colorado\n",
      "players\n",
      "good\n",
      "article\n",
      "much\n",
      "last\n",
      "edu\n",
      " \n"
     ]
    }
   ],
   "source": [
    "terms = vectorizer.get_feature_names()\n",
    "for i, comp in enumerate(lsa.components_): \n",
    "    termsInComp = zip (terms,comp)\n",
    "    sortedTerms =  sorted(termsInComp, key=lambda x: x[1], reverse=True) [:10]\n",
    "    print \"Concept %d:\" % i\n",
    "    for term in sortedTerms:\n",
    "        print term[0]\n",
    "    print \" \"\n"
   ]
  },
  {
   "cell_type": "code",
   "execution_count": null,
   "metadata": {
    "collapsed": true
   },
   "outputs": [],
   "source": []
  }
 ],
 "metadata": {
  "kernelspec": {
   "display_name": "Python 2",
   "language": "python",
   "name": "python2"
  },
  "language_info": {
   "codemirror_mode": {
    "name": "ipython",
    "version": 2
   },
   "file_extension": ".py",
   "mimetype": "text/x-python",
   "name": "python",
   "nbconvert_exporter": "python",
   "pygments_lexer": "ipython2",
   "version": "2.7.10"
  }
 },
 "nbformat": 4,
 "nbformat_minor": 0
}
